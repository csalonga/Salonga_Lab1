{
 "cells": [
  {
   "cell_type": "markdown",
   "metadata": {},
   "source": [
    "### 184310\n",
    "### Salonga\n",
    "### 3 BS ITE"
   ]
  },
  {
   "cell_type": "markdown",
   "metadata": {},
   "source": [
    "## Problem 1: USD to PHP"
   ]
  },
  {
   "cell_type": "code",
   "execution_count": null,
   "metadata": {},
   "outputs": [],
   "source": [
    "def convert (usd):\n",
    "    peso = usd * 50\n",
    "    return peso"
   ]
  },
  {
   "cell_type": "code",
   "execution_count": null,
   "metadata": {},
   "outputs": [],
   "source": [
    "#ask for USD \n",
    "usd = float(input(\"Enter the amount in US Dollars: \"))\n",
    "\n",
    "#compute usd to peso\n",
    "peso = convert (usd)\n",
    "\n",
    "#display peso\n",
    "print(usd, \"US Dollar(s)=\") \n",
    "print(peso, \"Philippine Pesos\")"
   ]
  },
  {
   "cell_type": "markdown",
   "metadata": {},
   "source": [
    "# Problem 2: Positive Integers"
   ]
  },
  {
   "cell_type": "code",
   "execution_count": null,
   "metadata": {},
   "outputs": [],
   "source": [
    "def sum (inta, intb):\n",
    "    firstline = inta + intb\n",
    "    return firstline\n",
    "\n",
    "def difference (inta, intb):\n",
    "    secondline = inta - intb\n",
    "    return secondline\n",
    "\n",
    "def prod (inta, intb):\n",
    "    thirdline = inta * intb\n",
    "    return thirdline\n",
    "\n",
    "def diffa (inta, intb):\n",
    "    fourthline = inta // intb\n",
    "    return fourthline\n",
    "\n",
    "def diffb (inta, intb):\n",
    "    fifthline = inta % intb\n",
    "    return fifthline"
   ]
  },
  {
   "cell_type": "code",
   "execution_count": null,
   "metadata": {},
   "outputs": [],
   "source": [
    "#ask for integer a\n",
    "inta = float(input(\"Enter first integer: \"))\n",
    "\n",
    "#ask for integer b\n",
    "intb = float(input(\"Enter second integer: \"))\n",
    "\n",
    "#compute sum\n",
    "firstline = sum (inta, intb)\n",
    "\n",
    "#print sum\n",
    "print(\"The sum is: \", firstline)\n",
    "\n",
    "#compute difference\n",
    "secondline = difference (inta, intb)\n",
    "\n",
    "#print difference\n",
    "print(\"The difference is: \", secondline)\n",
    "\n",
    "#compute product\n",
    "thirdline = prod (inta, intb)\n",
    "\n",
    "#print product\n",
    "print(\"The product is: \", thirdline)\n",
    "\n",
    "#compute diff a\n",
    "fourthline = diffa (inta, intb)\n",
    "\n",
    "#print diffa\n",
    "print(\"The quotient is: \", fourthline)\n",
    "\n",
    "#compute diff b\n",
    "fifthline = diffb (inta, intb)\n",
    "\n",
    "#print diff b\n",
    "print (\"The remainder is \", fifthline)"
   ]
  },
  {
   "cell_type": "markdown",
   "metadata": {},
   "source": [
    "## Problem 3: BMI"
   ]
  },
  {
   "cell_type": "code",
   "execution_count": null,
   "metadata": {},
   "outputs": [],
   "source": [
    "def change (cm):\n",
    "    convert_cm_to_m = cm / 100\n",
    "    return convert_cm_to_m\n",
    "\n",
    "def bmi (kg):\n",
    "    compute_bmi = kg / (convert_cm_to_m)**2\n",
    "    return compute_bmi"
   ]
  },
  {
   "cell_type": "code",
   "execution_count": null,
   "metadata": {},
   "outputs": [],
   "source": [
    "#ask for kg\n",
    "kg = float(input(\"Enter kg: \"))\n",
    "\n",
    "#ask for cm\n",
    "cm = float(input(\"Enter cm: \"))\n",
    "\n",
    "#compute cm to m\n",
    "convert_cm_to_m = change (cm)\n",
    "\n",
    "#compute bmi\n",
    "compute_bmi = bmi (kg)\n",
    "\n",
    "#print bmi\n",
    "print(\"BMI: \", compute_bmi)"
   ]
  },
  {
   "cell_type": "code",
   "execution_count": null,
   "metadata": {},
   "outputs": [],
   "source": []
  }
 ],
 "metadata": {
  "kernelspec": {
   "display_name": "Python 3",
   "language": "python",
   "name": "python3"
  },
  "language_info": {
   "codemirror_mode": {
    "name": "ipython",
    "version": 3
   },
   "file_extension": ".py",
   "mimetype": "text/x-python",
   "name": "python",
   "nbconvert_exporter": "python",
   "pygments_lexer": "ipython3",
   "version": "3.8.3"
  }
 },
 "nbformat": 4,
 "nbformat_minor": 4
}
